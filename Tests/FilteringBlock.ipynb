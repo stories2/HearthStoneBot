{
 "cells": [
  {
   "cell_type": "code",
   "execution_count": 1,
   "metadata": {
    "collapsed": true
   },
   "outputs": [
    {
     "name": "stdout",
     "output_type": "stream",
     "text": [
      "Hello world\n"
     ]
    }
   ],
   "source": [
    "print \"Hello world\""
   ]
  },
  {
   "cell_type": "code",
   "execution_count": 43,
   "metadata": {},
   "outputs": [],
   "source": [
    "targetFileName = \"hearthstone_2017_07_15_11_34_53.log\"\n",
    "endOfBlock = \"--------------------------------------------------------------------\\n\"\n",
    "NOT_AVAILABLE = -1"
   ]
  },
  {
   "cell_type": "code",
   "execution_count": 44,
   "metadata": {},
   "outputs": [],
   "source": [
    "hearthStoneLogFile = open(\"Tests/Data/\" + targetFileName, \"r\")"
   ]
  },
  {
   "cell_type": "code",
   "execution_count": 45,
   "metadata": {},
   "outputs": [],
   "source": [
    "hearthStoneFilteredLogFile = open(\"Tests/Data/\" + targetFileName + \".txt\", \"w\")"
   ]
  },
  {
   "cell_type": "code",
   "execution_count": 46,
   "metadata": {},
   "outputs": [
    {
     "name": "stdout",
     "output_type": "stream",
     "text": [
      "total 16\r\n-rw-r--r--  1 stories2  staff  1068 Jul 15 12:29 LICENSE\r\n-rw-r--r--  1 stories2  staff  2031 Jul 15 12:28 README.md\r\ndrwxr-xr-x  5 stories2  staff   170 Jul 15 13:55 \u001b[34mTests\u001b[m\u001b[m/\r\n"
     ]
    }
   ],
   "source": [
    "ls -l"
   ]
  },
  {
   "cell_type": "code",
   "execution_count": 47,
   "metadata": {},
   "outputs": [],
   "source": [
    "blockPrintStatus = False\n",
    "writeLogToFile = True"
   ]
  },
  {
   "cell_type": "code",
   "execution_count": 50,
   "metadata": {},
   "outputs": [],
   "source": [
    "while True:\n",
    "    indexOfLog = hearthStoneLogFile.readline()\n",
    "    if not indexOfLog:\n",
    "        break\n",
    "   \n",
    "    if indexOfLog.find(\"BLOCK_START\") != NOT_AVAILABLE:\n",
    "        blockPrintStatus = True\n",
    "        \n",
    "    if blockPrintStatus == True and indexOfLog.find(\"FSM\") == NOT_AVAILABLE:\n",
    "        print indexOfLog\n",
    "        if writeLogToFile == True:\n",
    "            hearthStoneFilteredLogFile.write(indexOfLog)\n",
    "        \n",
    "    if indexOfLog.find(\"BLOCK_END\") != NOT_AVAILABLE:\n",
    "        blockPrintStatus = False\n",
    "        if writeLogToFile == True:\n",
    "            hearthStoneFilteredLogFile.write(endOfBlock)"
   ]
  },
  {
   "cell_type": "code",
   "execution_count": 51,
   "metadata": {},
   "outputs": [],
   "source": [
    "hearthStoneFilteredLogFile.close()\n",
    "hearthStoneLogFile.close()"
   ]
  },
  {
   "cell_type": "code",
   "execution_count": null,
   "metadata": {},
   "outputs": [],
   "source": [
    ""
   ]
  }
 ],
 "metadata": {
  "kernelspec": {
   "display_name": "Python 2",
   "language": "python",
   "name": "python2"
  },
  "language_info": {
   "codemirror_mode": {
    "name": "ipython",
    "version": 2.0
   },
   "file_extension": ".py",
   "mimetype": "text/x-python",
   "name": "python",
   "nbconvert_exporter": "python",
   "pygments_lexer": "ipython2",
   "version": "2.7.6"
  }
 },
 "nbformat": 4,
 "nbformat_minor": 0
}